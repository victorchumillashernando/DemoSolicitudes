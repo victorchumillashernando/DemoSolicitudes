{
 "cells": [
  {
   "cell_type": "code",
   "execution_count": 1,
   "id": "082f1295",
   "metadata": {},
   "outputs": [],
   "source": [
    "import requests\n",
    "from requests.auth import HTTPBasicAuth\n",
    "\n",
    "def generarToken(usuario):\n",
    "    url = \"https://apisolicitudesonlinepre.cinconet.local/api/Auth/login\"\n",
    "    username = usuario\n",
    "    password = \"tu_contraseña\"\n",
    "    response = requests.post(url, auth=HTTPBasicAuth(username, password), verify=False)\n",
    "    return response.json().get(\"validToken\")"
   ]
  },
  {
   "cell_type": "code",
   "execution_count": 12,
   "id": "f1056a21",
   "metadata": {},
   "outputs": [
    {
     "name": "stdout",
     "output_type": "stream",
     "text": [
      "vchumillas@megamedia.es\n",
      "Usuario: vchumillas\n",
      "Dominio: megamedia.es\n"
     ]
    },
    {
     "name": "stderr",
     "output_type": "stream",
     "text": [
      "c:\\Users\\vchumillas\\AppData\\Local\\Programs\\Python\\Python310\\lib\\site-packages\\urllib3\\connectionpool.py:1099: InsecureRequestWarning: Unverified HTTPS request is being made to host 'apisolicitudesonlinepre.cinconet.local'. Adding certificate verification is strongly advised. See: https://urllib3.readthedocs.io/en/latest/advanced-usage.html#tls-warnings\n",
      "  warnings.warn(\n"
     ]
    },
    {
     "name": "stdout",
     "output_type": "stream",
     "text": [
      "{\"mail\":\"vchumillas@megamedia.es\",\"mail_2\":\"vchumillas@megamedia.es\",\"clasificacionProfesional\":\"TEC\",\"rolId\":0,\"rol\":null,\"autorizador\":null,\"activo\":false,\"correo\":null,\"empresa\":\"MEGAMEDIA TELEVISION, S.L.\",\"empresaId\":31,\"departamento\":\"DESARROLLO, PRODUCTO E INNOVACION\",\"localizacion\":\"Edificio B Planta 4\",\"numeroEmpleado\":310536,\"telefono\":null,\"esAutorizador\":false,\"delegadosId\":null,\"delegados\":null,\"isApprover\":false,\"canDelegate\":false,\"esAuditor\":false,\"esAdministrado\":false,\"id\":0,\"login\":\"vchumillas\",\"nombre\":\"VICTOR\",\"apellidos\":\"CHUMILLAS HERNANDO\"}\n"
     ]
    },
    {
     "name": "stderr",
     "output_type": "stream",
     "text": [
      "c:\\Users\\vchumillas\\AppData\\Local\\Programs\\Python\\Python310\\lib\\site-packages\\urllib3\\connectionpool.py:1099: InsecureRequestWarning: Unverified HTTPS request is being made to host 'apisolicitudesonline.cinconet.local'. Adding certificate verification is strongly advised. See: https://urllib3.readthedocs.io/en/latest/advanced-usage.html#tls-warnings\n",
      "  warnings.warn(\n"
     ]
    }
   ],
   "source": [
    "import requests\n",
    "\n",
    "mail=\"vchumillas@megamedia.es\"\n",
    "print(mail)\n",
    "usuario, dominio = mail.split('@')\n",
    "\n",
    "print(\"Usuario:\", usuario)\n",
    "print(\"Dominio:\", dominio)\n",
    "\n",
    "validToken = generarToken(mail)\n",
    "url = f\"https://apisolicitudesonline.cinconet.local/api/Gestion/Usuario/Directorio/{usuario}\"\n",
    "headers = {\n",
    "    'Content-Type': 'application/json;charset=UTF-8',\n",
    "    'Authorization': f'Bearer {validToken}'\n",
    "}\n",
    "\n",
    "response = requests.get(url, headers=headers, verify=False)\n",
    "print(response.text)\n"
   ]
  }
 ],
 "metadata": {
  "kernelspec": {
   "display_name": "Python 3",
   "language": "python",
   "name": "python3"
  },
  "language_info": {
   "codemirror_mode": {
    "name": "ipython",
    "version": 3
   },
   "file_extension": ".py",
   "mimetype": "text/x-python",
   "name": "python",
   "nbconvert_exporter": "python",
   "pygments_lexer": "ipython3",
   "version": "3.10.10"
  }
 },
 "nbformat": 4,
 "nbformat_minor": 5
}
